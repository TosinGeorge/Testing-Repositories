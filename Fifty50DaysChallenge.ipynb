{
 "cells": [
  {
   "cell_type": "markdown",
   "id": "0f5ad5a1",
   "metadata": {},
   "source": [
    "#Day 1 Sept 23, 2022\n",
    "\"\"\"Day 1: Division and Square-root\n",
    "Write  a  function  called divide_or_square\n",
    "that takes  one argument(a number), and returns the squareroot of the number if it is divisible by 5,\n",
    "returns its remainder if it is not divisible by 5.\n",
    "For example, if you pass 10as an argument, then your function should return 3.16 as the square root.\"\"\"\n",
    "def Divide_or_Square():"
   ]
  },
  {
   "cell_type": "code",
   "execution_count": 18,
   "id": "8f897d6c",
   "metadata": {},
   "outputs": [
    {
     "name": "stdout",
     "output_type": "stream",
     "text": [
      "25  is divisible by 5 and the squareroot of  25  is 5.0\n"
     ]
    }
   ],
   "source": [
    "#this function find the square root of num if num is divisible by 5 and return the remainder if num is not divisible by 5\n",
    "def Division_or_Square(num):\n",
    "    import math\n",
    "    num > 0\n",
    "    if (num % 5 == 0):\n",
    "        print(num,' is divisible by 5 and the squareroot of ',num,' is',math.sqrt(num))\n",
    "    else:\n",
    "        print (num,'is not divisible by 5 and the remainder after the division is ',num%5)\n",
    "        \n",
    "Division_or_Square(25)"
   ]
  },
  {
   "cell_type": "code",
   "execution_count": 19,
   "id": "b82a212d",
   "metadata": {},
   "outputs": [
    {
     "name": "stdout",
     "output_type": "stream",
     "text": [
      "20  is divisible by 5 and the squareroot of  20  is 4.47213595499958\n"
     ]
    }
   ],
   "source": [
    "Division_or_Square(20)"
   ]
  },
  {
   "cell_type": "code",
   "execution_count": 14,
   "id": "ac2bff10",
   "metadata": {},
   "outputs": [
    {
     "name": "stdout",
     "output_type": "stream",
     "text": [
      "7 is not divisible by 5 and the remainder after the division is  2\n"
     ]
    }
   ],
   "source": [
    "Division_or_Square(7)"
   ]
  },
  {
   "cell_type": "code",
   "execution_count": 20,
   "id": "4971e151",
   "metadata": {},
   "outputs": [
    {
     "name": "stdout",
     "output_type": "stream",
     "text": [
      "5  is divisible by 5 and the squareroot of  5  is 2.23606797749979\n"
     ]
    }
   ],
   "source": [
    "Division_or_Square(5)"
   ]
  },
  {
   "cell_type": "code",
   "execution_count": 21,
   "id": "144dbe55",
   "metadata": {},
   "outputs": [
    {
     "name": "stdout",
     "output_type": "stream",
     "text": [
      "75  is divisible by 5 and the squareroot of  75  is 8.660254037844387\n"
     ]
    }
   ],
   "source": [
    "Division_or_Square(75)"
   ]
  },
  {
   "cell_type": "code",
   "execution_count": 22,
   "id": "dab23ed5",
   "metadata": {},
   "outputs": [
    {
     "name": "stdout",
     "output_type": "stream",
     "text": [
      "10  is divisible by 5 and the squareroot of  10  is 3.1622776601683795\n"
     ]
    }
   ],
   "source": [
    "Division_or_Square(10)"
   ]
  },
  {
   "cell_type": "code",
   "execution_count": 23,
   "id": "fa9bc5cb",
   "metadata": {},
   "outputs": [
    {
     "name": "stdout",
     "output_type": "stream",
     "text": [
      "100  is divisible by 5 and the squareroot of  100  is 10.0\n"
     ]
    }
   ],
   "source": [
    "Division_or_Square(100)"
   ]
  },
  {
   "cell_type": "markdown",
   "id": "33554cb6",
   "metadata": {},
   "source": [
    "Extra Challenge"
   ]
  },
  {
   "cell_type": "markdown",
   "id": "1cef681a",
   "metadata": {},
   "source": [
    "##### Write a function called longest_value that takes a dictonary as an argument\n",
    "##### and returns the first longest value of the dictionary."
   ]
  },
  {
   "cell_type": "code",
   "execution_count": 7,
   "id": "1c1cc093",
   "metadata": {},
   "outputs": [
    {
     "data": {
      "text/plain": [
       "'girlofnowadays'"
      ]
     },
     "execution_count": 7,
     "metadata": {},
     "output_type": "execute_result"
    }
   ],
   "source": [
    "#this function find the longest value in a dictionary\n",
    "def longest_value(values):\n",
    "        count=0\n",
    "        for i in values:\n",
    "            length_values =(len(values[i]))\n",
    "            if length_values > count:\n",
    "                count=length_values\n",
    "                longest=values[i]\n",
    "        return longest\n",
    "\n",
    "longest_value({1:'Ibironke',2:'Tolani',3:'Sefunmi',4:'boy',5:'girlofnowadays'})"
   ]
  },
  {
   "cell_type": "code",
   "execution_count": 9,
   "id": "4422c2e4",
   "metadata": {},
   "outputs": [
    {
     "data": {
      "text/plain": [
       "'MGS00001'"
      ]
     },
     "execution_count": 9,
     "metadata": {},
     "output_type": "execute_result"
    }
   ],
   "source": [
    "longest_value({'fruit':'apple','color':'green','code':'MGS00001'})"
   ]
  },
  {
   "cell_type": "markdown",
   "id": "195bb713",
   "metadata": {},
   "source": [
    "#### Day 2 24 Sept, 2022"
   ]
  },
  {
   "cell_type": "markdown",
   "id": "3d568a2a",
   "metadata": {},
   "source": [
    "##### Write a function called convert_add that takes a list of strings as an argument \n",
    "##### and converts it to integers and sums the list. \n",
    "##### For example ['1','2','3'] should be converted to [1,2,3] and summed to 9."
   ]
  },
  {
   "cell_type": "code",
   "execution_count": 54,
   "id": "73bcf821",
   "metadata": {},
   "outputs": [
    {
     "data": {
      "text/plain": [
       "23"
      ]
     },
     "execution_count": 54,
     "metadata": {},
     "output_type": "execute_result"
    }
   ],
   "source": [
    "def convert_Add(string_Int):\n",
    "    num_string=[int(i) for i in string_Int]\n",
    "    return sum(num_string)\n",
    "convert_Add(['5','8','10'])"
   ]
  },
  {
   "cell_type": "code",
   "execution_count": 27,
   "id": "dcc4cf50",
   "metadata": {},
   "outputs": [
    {
     "name": "stdout",
     "output_type": "stream",
     "text": [
      "['1', '2', '3']\n"
     ]
    }
   ],
   "source": [
    "list=['1','2','3']\n",
    "print(list)"
   ]
  },
  {
   "cell_type": "code",
   "execution_count": 28,
   "id": "518be171",
   "metadata": {},
   "outputs": [
    {
     "name": "stdout",
     "output_type": "stream",
     "text": [
      "6\n"
     ]
    }
   ],
   "source": [
    "list=['1','2','3']\n",
    "for i in range(0,len(list)):\n",
    "    list[i]=int(list[i])\n",
    "    \n",
    "print(sum(list))"
   ]
  },
  {
   "cell_type": "code",
   "execution_count": 94,
   "id": "d008d1a1",
   "metadata": {},
   "outputs": [
    {
     "name": "stdout",
     "output_type": "stream",
     "text": [
      "38\n"
     ]
    }
   ],
   "source": [
    "def return_int(W):\n",
    "    num=[int(i)for i in W]\n",
    "    summed=sum(num)\n",
    "    print (summed)\n",
    "\n",
    "return_int(['20','8','10'])"
   ]
  },
  {
   "cell_type": "markdown",
   "id": "7d879596",
   "metadata": {},
   "source": [
    "Extra Challenge: Duplicate Names"
   ]
  },
  {
   "cell_type": "markdown",
   "id": "ce7c47da",
   "metadata": {},
   "source": [
    "#### Write a function called check_duplicates that takes a list of strings as an argument. The function should check if the list has any duplicates. if there are duplicates, the function should return the duplicates. if there are no duplicates, the function should return \"No duplicates\". For Example, the list of fruits below should return apple as a duplicate and list of names should return 'no duplicate'.\n",
    "Fruits=['apple', 'orange','banana','apple']\n",
    "Names=['Yoda','Moses','Joshua','Mark']"
   ]
  },
  {
   "cell_type": "code",
   "execution_count": 3,
   "id": "ccda2025",
   "metadata": {},
   "outputs": [],
   "source": []
  },
  {
   "cell_type": "markdown",
   "id": "7ba75eea",
   "metadata": {},
   "source": [
    "##### Day 3: Register Check Sunday Sept 25, 2022 but Today is 27th Am still on the code, finally today 2nd Oct with the help of a very good teammate Tosin i was able to solve this challenge.\n",
    "Write a function called register_check that checks how many students are in school. the function takes a dictionary as a parameter. if the student is in school, the dictionary says 'yes'. if the student is not in school, the dictionary says 'no'. your function should return the number of students in school. use the dictionary below. Your function should return 3.\n",
    "register = {'Michael':'Yes', 'Joshua':'No','Peter':'Yes','Mary':'Yes'}"
   ]
  },
  {
   "cell_type": "code",
   "execution_count": 15,
   "id": "ac03e8f4",
   "metadata": {},
   "outputs": [
    {
     "name": "stdout",
     "output_type": "stream",
     "text": [
      "Yes Micheal is in school\n",
      "No Joshua is not in school\n",
      "Yes Peter is in school\n",
      "2\n"
     ]
    }
   ],
   "source": [
    "students_register={'Micheal':'Yes','Joshua':'No','Peter':'Yes'}\n",
    "def register_check(students_register):\n",
    "    count = 0\n",
    "    for i,j in students_register.items():\n",
    "        if j == 'Yes':\n",
    "            count=count+1\n",
    "            print ('Yes',i,'is in school')\n",
    "        else:\n",
    "            print('No',i,'is not in school')\n",
    "    print(count)\n",
    "register_check(students_register)"
   ]
  },
  {
   "cell_type": "code",
   "execution_count": null,
   "id": "caac030d",
   "metadata": {},
   "outputs": [],
   "source": []
  }
 ],
 "metadata": {
  "kernelspec": {
   "display_name": "Python 3 (ipykernel)",
   "language": "python",
   "name": "python3"
  },
  "language_info": {
   "codemirror_mode": {
    "name": "ipython",
    "version": 3
   },
   "file_extension": ".py",
   "mimetype": "text/x-python",
   "name": "python",
   "nbconvert_exporter": "python",
   "pygments_lexer": "ipython3",
   "version": "3.9.12"
  }
 },
 "nbformat": 4,
 "nbformat_minor": 5
}
